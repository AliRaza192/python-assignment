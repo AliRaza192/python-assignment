{
 "cells": [
  {
   "cell_type": "code",
   "execution_count": 4,
   "metadata": {},
   "outputs": [
    {
     "name": "stdout",
     "output_type": "stream",
     "text": [
      "Enter Your Urdu Marks 87\n",
      "Enter Your English Marks 59\n",
      "Enter Your Economics Marks 65\n",
      "Enter Your Accounting Marks 98\n",
      "Enter Your math Marks 45\n",
      "83.29411764705883\n",
      "Your Grade is 'A+' \n"
     ]
    }
   ],
   "source": [
    "urdu = int(input(\"Enter Your Urdu Marks \"))\n",
    "english = int(input(\"Enter Your English Marks \"))\n",
    "economics = int(input(\"Enter Your Economics Marks \"))\n",
    "accounting = int(input(\"Enter Your Accounting Marks \"))\n",
    "math = int(input(\"Enter Your math Marks \"))\n",
    "total = (urdu + english + accounting + economics + math)\n",
    "per = (total * 100 / 425)\n",
    "print(per)\n",
    "if per >= 80 and per <100:\n",
    "    print(\"Your Grade is 'A+' \")\n",
    "elif per >= 70 and per <80 :\n",
    "    print(\"Your Grade is 'A' \")\n",
    "elif per >= 60 and per <70:\n",
    "    print(\"Your Grade is 'B' \")\n",
    "elif per >= 50 and per <60:\n",
    "    print(\"Your Grade is 'C' \")\n",
    "elif per >= 40 and per <50:\n",
    "    print(\"Your Grade is 'D' \")\n",
    "elif per >= 0 and per <40:\n",
    "    print(\"Sorry ! You Are Fail \")\n",
    "else :\n",
    "    print(\"You have Entered Incorrect Marks\")"
   ]
  },
  {
   "cell_type": "code",
   "execution_count": 15,
   "metadata": {},
   "outputs": [
    {
     "name": "stdout",
     "output_type": "stream",
     "text": [
      "Enter a number :24\n",
      "24 is Even\n"
     ]
    }
   ],
   "source": [
    "x = int(input(\"Enter a number :\"))\n",
    "if x%2==0:\n",
    "  print(x,\"is Even\")\n",
    "else:\n",
    "    print(x,\"is odd\")"
   ]
  },
  {
   "cell_type": "code",
   "execution_count": 17,
   "metadata": {},
   "outputs": [
    {
     "data": {
      "text/plain": [
       "7"
      ]
     },
     "execution_count": 17,
     "metadata": {},
     "output_type": "execute_result"
    }
   ],
   "source": [
    "arr = [1,2,3,4,5,\"ali\",\"rizwan\"]\n",
    "len(arr)"
   ]
  },
  {
   "cell_type": "code",
   "execution_count": 18,
   "metadata": {},
   "outputs": [
    {
     "name": "stdout",
     "output_type": "stream",
     "text": [
      "21\n"
     ]
    }
   ],
   "source": [
    "mylist = [2,5,2,3,4,5]\n",
    "total = sum(mylist)\n",
    "print(total)"
   ]
  },
  {
   "cell_type": "code",
   "execution_count": null,
   "metadata": {},
   "outputs": [],
   "source": [
    "a = []\n",
    "n = int(input(\"Enter a number of elements : \"))\n",
    "for i in range(1,n+1):\n",
    "    b = int(input(\"enter element : \"))\n",
    "    a.append(b)\n",
    "a.sort()\n",
    "print(\"Largest element is : \",a[n-1])"
   ]
  },
  {
   "cell_type": "code",
   "execution_count": null,
   "metadata": {},
   "outputs": [],
   "source": [
    "arr = [1, 1, 2, 3, 5, 8, 13, 21, 34, 55, 89]\n",
    "arr[:4]"
   ]
  },
  {
   "cell_type": "code",
   "execution_count": null,
   "metadata": {},
   "outputs": [],
   "source": []
  }
 ],
 "metadata": {
  "kernelspec": {
   "display_name": "Python 3",
   "language": "python",
   "name": "python3"
  },
  "language_info": {
   "codemirror_mode": {
    "name": "ipython",
    "version": 3
   },
   "file_extension": ".py",
   "mimetype": "text/x-python",
   "name": "python",
   "nbconvert_exporter": "python",
   "pygments_lexer": "ipython3",
   "version": "3.7.4"
  }
 },
 "nbformat": 4,
 "nbformat_minor": 2
}
