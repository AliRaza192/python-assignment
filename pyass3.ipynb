{
 "cells": [
  {
   "cell_type": "code",
   "execution_count": 7,
   "metadata": {},
   "outputs": [
    {
     "name": "stdout",
     "output_type": "stream",
     "text": [
      "enter a number : 5\n",
      "Not Found\n",
      "Not Found\n",
      "Not Found\n",
      "Not Found\n",
      "Match Found\n",
      "Not Found\n",
      "Not Found\n",
      "Not Found\n",
      "Not Found\n"
     ]
    }
   ],
   "source": [
    "arr = [1,2,3,4,5,6,7,8,9]\n",
    "num = int(input(\"enter a number : \"))\n",
    "for shd in arr:\n",
    "    if num ==shd:\n",
    "        print(\"Match Found\")\n",
    "    else:\n",
    "        print(\"Not Found\")"
   ]
  },
  {
   "cell_type": "code",
   "execution_count": 8,
   "metadata": {},
   "outputs": [
    {
     "name": "stdout",
     "output_type": "stream",
     "text": [
      "alirazaqasim192@gmail.com\n"
     ]
    }
   ],
   "source": [
    "data = {\n",
    "    \"First_Name\":\"Ali\",\n",
    "    \"Last_Nmae\":\"Raza\",\n",
    "    \"email\":\"alirazaqasim192@gmail.com\"\n",
    "}\n",
    "print(data[\"email\"])"
   ]
  },
  {
   "cell_type": "code",
   "execution_count": 9,
   "metadata": {},
   "outputs": [
    {
     "name": "stdout",
     "output_type": "stream",
     "text": [
      "Enter first value : 50\n",
      "Enter second value : 26\n",
      "Enter operater : -\n",
      "24 answer\n"
     ]
    }
   ],
   "source": [
    "val1 = input(\"Enter first value : \")\n",
    "val2 = input(\"Enter second value : \")\n",
    "operater = input(\"Enter operater : \")\n",
    "val1 = int(val1)\n",
    "val2 = int(val2)\n",
    "if operater ==\"+\":\n",
    "  ans = val1 + val2\n",
    "  print(ans,\"answer\")\n",
    "elif operater == \"-\":\n",
    "  ans = val1 - val2\n",
    "  print(ans,\"answer\")\n",
    "elif operater == \"*\":\n",
    "  ans = val1 * val2\n",
    "  print(ans, \"answer\")\n",
    "elif operater == \"/\":\n",
    "  ans = val1 / val2\n",
    "  print(ans,\"is answer\")\n",
    "else:\n",
    "    print(\"enter\")\n"
   ]
  },
  {
   "cell_type": "code",
   "execution_count": null,
   "metadata": {},
   "outputs": [],
   "source": []
  },
  {
   "cell_type": "code",
   "execution_count": null,
   "metadata": {},
   "outputs": [],
   "source": []
  },
  {
   "cell_type": "code",
   "execution_count": null,
   "metadata": {},
   "outputs": [],
   "source": []
  }
 ],
 "metadata": {
  "kernelspec": {
   "display_name": "Python 3",
   "language": "python",
   "name": "python3"
  },
  "language_info": {
   "codemirror_mode": {
    "name": "ipython",
    "version": 3
   },
   "file_extension": ".py",
   "mimetype": "text/x-python",
   "name": "python",
   "nbconvert_exporter": "python",
   "pygments_lexer": "ipython3",
   "version": "3.7.4"
  }
 },
 "nbformat": 4,
 "nbformat_minor": 2
}
