{
 "cells": [
  {
   "cell_type": "code",
   "execution_count": 1,
   "metadata": {},
   "outputs": [
    {
     "name": "stdout",
     "output_type": "stream",
     "text": [
      "Enter Any Value: 9\n",
      "362880\n"
     ]
    }
   ],
   "source": [
    "#Qno:1\n",
    "def factorial(num):\n",
    "    if num == 0:\n",
    "        return 1\n",
    "    else:\n",
    "        return num * factorial(num-1)\n",
    "num = int(input(\"Enter Any Value: \"))\n",
    "print(factorial(num))"
   ]
  },
  {
   "cell_type": "code",
   "execution_count": 7,
   "metadata": {},
   "outputs": [
    {
     "name": "stdout",
     "output_type": "stream",
     "text": [
      "number of upper case is: 4\n",
      "number of lower case is:  6\n"
     ]
    }
   ],
   "source": [
    "#Qno:2\n",
    "def string(a):\n",
    "    upper = sum(1 for c in a if c.isupper())\n",
    "    lower = sum(1 for c in a if c.islower())\n",
    "    print(\"number of upper case is:\",upper)\n",
    "    print(\"number of lower case is: \",lower)\n",
    "    \n",
    "string(\"I Am Ali Raza\")"
   ]
  },
  {
   "cell_type": "code",
   "execution_count": 8,
   "metadata": {},
   "outputs": [
    {
     "name": "stdout",
     "output_type": "stream",
     "text": [
      "Odd Number.\n",
      "Even Number.\n",
      "Odd Number.\n",
      "Even Number.\n",
      "Odd Number.\n",
      "Even Number.\n",
      "Odd Number.\n",
      "Even Number.\n",
      "Odd Number.\n",
      "Even Number.\n"
     ]
    }
   ],
   "source": [
    "#Qno:3\n",
    "def num_func():\n",
    "    arr = [1,2,3,4,5,6,7,8,9,10]\n",
    "    for a in arr:\n",
    "        div = a % 2\n",
    "        if div == 0:\n",
    "            print(\"Even Number.\")\n",
    "        else:\n",
    "            print(\"Odd Number.\")\n",
    "num_func()"
   ]
  },
  {
   "cell_type": "code",
   "execution_count": 11,
   "metadata": {},
   "outputs": [
    {
     "name": "stdout",
     "output_type": "stream",
     "text": [
      "enter only string :9\n",
      "string : 9\n",
      "reverse : 9\n",
      "This is palindrme.\n"
     ]
    }
   ],
   "source": [
    "#Qno:4\n",
    "def check(st):\n",
    "    rev = st[::-1]\n",
    "    print(\"string :\",st)\n",
    "    print(\"reverse :\",rev)\n",
    "    if st ==rev:\n",
    "        return True\n",
    "    else:\n",
    "        return False\n",
    "string = input(\"enter only string :\")\n",
    "if check(string):\n",
    "    print(\"This is palindrme.\")\n",
    "else:\n",
    "    print(\"This is palindrme.\")"
   ]
  },
  {
   "cell_type": "code",
   "execution_count": null,
   "metadata": {},
   "outputs": [],
   "source": [
    "#Qno:5"
   ]
  },
  {
   "cell_type": "code",
   "execution_count": 10,
   "metadata": {},
   "outputs": [
    {
     "name": "stdout",
     "output_type": "stream",
     "text": [
      "purschased good: mobile, Laptop\n",
      "purschased good: desktop\n",
      "purschased good: tablet\n",
      "purschased good: Macbook\n"
     ]
    }
   ],
   "source": [
    "#Qno:6\n",
    "def shopping_list(*lst):\n",
    "    for goods in lst:\n",
    "        print(\"purschased good: \" + goods)\n",
    "shopping_list(\"mobile, Laptop\",\"desktop\",\"tablet\",\"Macbook\")\n",
    "    "
   ]
  },
  {
   "cell_type": "code",
   "execution_count": null,
   "metadata": {},
   "outputs": [],
   "source": []
  }
 ],
 "metadata": {
  "kernelspec": {
   "display_name": "Python 3",
   "language": "python",
   "name": "python3"
  },
  "language_info": {
   "codemirror_mode": {
    "name": "ipython",
    "version": 3
   },
   "file_extension": ".py",
   "mimetype": "text/x-python",
   "name": "python",
   "nbconvert_exporter": "python",
   "pygments_lexer": "ipython3",
   "version": "3.7.4"
  }
 },
 "nbformat": 4,
 "nbformat_minor": 2
}
