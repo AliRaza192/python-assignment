{
 "cells": [
  {
   "cell_type": "code",
   "execution_count": 9,
   "metadata": {},
   "outputs": [
    {
     "name": "stdout",
     "output_type": "stream",
     "text": [
      "Twikle Twinkle Little Star,\n",
      "        How I wonder What You Are !\n",
      "              Up above the world so high,\n",
      "              Like a diamond in The Sky.\n",
      "Twikle Twinkle Little Star,\n",
      "        How I wonder What You Are !\n"
     ]
    }
   ],
   "source": [
    "print(\"Twikle Twinkle Little Star,\"),\n",
    "print(\"       \"\" How I wonder What You Are !\"),\n",
    "print(\"              \"\"Up above the world so high,\")\n",
    "print(\"              \"\"Like a diamond in The Sky.\")\n",
    "print(\"Twikle Twinkle Little Star,\"),\n",
    "print(\"       \"\" How I wonder What You Are !\")"
   ]
  },
  {
   "cell_type": "code",
   "execution_count": 7,
   "metadata": {},
   "outputs": [
    {
     "name": "stdout",
     "output_type": "stream",
     "text": [
      "Ali Raza\n"
     ]
    }
   ],
   "source": [
    "first_name = \"Raza\"\n",
    "Last_name = \"Ali\"\n",
    "print(Last_name+\" \"+first_name)"
   ]
  },
  {
   "cell_type": "code",
   "execution_count": 9,
   "metadata": {
    "scrolled": true
   },
   "outputs": [
    {
     "name": "stdout",
     "output_type": "stream",
     "text": [
      " Enter Your Name:- Ali_Raza\n",
      " Enter Any Password:- Ali12345\n",
      "Name:- Ali_Raza\n",
      "password:- Ali12345\n"
     ]
    }
   ],
   "source": [
    "name = input(\" Enter Your Name:- \")\n",
    "password = input (\" Enter Any Password:- \")\n",
    "print(\"Name:- \" + name)\n",
    "print(\"password:- \" + password)"
   ]
  },
  {
   "cell_type": "code",
   "execution_count": 6,
   "metadata": {},
   "outputs": [
    {
     "name": "stdout",
     "output_type": "stream",
     "text": [
      "3.7.4\n"
     ]
    }
   ],
   "source": [
    "from platform import python_version\n",
    "print(python_version())"
   ]
  },
  {
   "cell_type": "code",
   "execution_count": 5,
   "metadata": {},
   "outputs": [
    {
     "name": "stdout",
     "output_type": "stream",
     "text": [
      "Current Date And time is \n",
      "28-11-19 21:32-16\n"
     ]
    }
   ],
   "source": [
    "import datetime\n",
    "current = datetime.datetime.now()\n",
    "print(\"Current Date And time is \" )\n",
    "print(current.strftime(\"%d-%m-%y %H:%M-%S\"))"
   ]
  },
  {
   "cell_type": "code",
   "execution_count": 4,
   "metadata": {},
   "outputs": [
    {
     "name": "stdout",
     "output_type": "stream",
     "text": [
      "enter the radius of the circle : 10\n",
      "Area of the cicle is :  314.1592653589793\n"
     ]
    }
   ],
   "source": [
    "import math\n",
    "radius = float(input(\"enter the radius of the circle : \"))\n",
    "area = math.pi * radius * radius\n",
    "print(\"Area of the cicle is : \", area)"
   ]
  },
  {
   "cell_type": "code",
   "execution_count": null,
   "metadata": {},
   "outputs": [],
   "source": []
  },
  {
   "cell_type": "code",
   "execution_count": null,
   "metadata": {},
   "outputs": [],
   "source": []
  }
 ],
 "metadata": {
  "kernelspec": {
   "display_name": "Python 3",
   "language": "python",
   "name": "python3"
  },
  "language_info": {
   "codemirror_mode": {
    "name": "ipython",
    "version": 3
   },
   "file_extension": ".py",
   "mimetype": "text/x-python",
   "name": "python",
   "nbconvert_exporter": "python",
   "pygments_lexer": "ipython3",
   "version": "3.7.4"
  }
 },
 "nbformat": 4,
 "nbformat_minor": 2
}
