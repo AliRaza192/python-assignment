{
 "cells": [
  {
   "cell_type": "code",
   "execution_count": 8,
   "metadata": {},
   "outputs": [
    {
     "name": "stdout",
     "output_type": "stream",
     "text": [
      "Ali\n",
      "Raza\n",
      "19\n",
      "Karachi\n"
     ]
    }
   ],
   "source": [
    "#Qno:1\n",
    "Detail = [\n",
    "    {\n",
    "      \"firstname\":\"Ali\",\n",
    "      \"lastname\":\"Raza\",\n",
    "      \"age\":19,\n",
    "        \"city\":\"Karachi\"\n",
    "    },\n",
    "]\n",
    "print(Detail[0][\"firstname\"])\n",
    "print(Detail[0][\"lastname\"])\n",
    "print(Detail[0][\"age\"])\n",
    "print(Detail[0][\"city\"])"
   ]
  },
  {
   "cell_type": "code",
   "execution_count": 9,
   "metadata": {},
   "outputs": [
    {
     "name": "stdout",
     "output_type": "stream",
     "text": [
      "{'firstname': 'Ali', 'lastname': 'Raza', 'age': 19, 'city': 'Karachi', 'qualification': 'Inter-Commerce'}\n"
     ]
    }
   ],
   "source": [
    "detail = {\n",
    "          \"firstname\":\"Ali\",\n",
    "          \"lastname\":\"Raza\",\n",
    "          \"age\":19,\n",
    "          \"city\":\"Karachi\",\n",
    "        }\n",
    "detail[\"qualification\"] = \"Inter-Commerce\"\n",
    "print(detail)"
   ]
  },
  {
   "cell_type": "code",
   "execution_count": 10,
   "metadata": {},
   "outputs": [
    {
     "name": "stdout",
     "output_type": "stream",
     "text": [
      "{'firstname': 'Ali', 'lastname': 'Raza', 'age': 19, 'city': 'Karachi'}\n"
     ]
    }
   ],
   "source": [
    "del detail[\"qualification\"]\n",
    "print(detail)"
   ]
  },
  {
   "cell_type": "code",
   "execution_count": 11,
   "metadata": {},
   "outputs": [
    {
     "name": "stdout",
     "output_type": "stream",
     "text": [
      "{'country': 'Pakistan', 'population': '2.5 crore', 'about': 'karachi is a idustrial hub of pakistan.'}\n",
      "{'country': 'Pakistan', 'population': '1.266 Million', 'about': 'The Birth Place Of Allama Muhammad Iqbal.'}\n",
      "{'country': 'Pakistan', 'population': '1 million', 'about': 'Islamabad is a capital of Pakistan.'}\n"
     ]
    }
   ],
   "source": [
    "#Qno:2\n",
    "cities = {\n",
    "        \"karachi\":{\n",
    "            \"country\":\"Pakistan\",\n",
    "            \"population\":\"2.5 crore\",\n",
    "            \"about\":\"karachi is a idustrial hub of pakistan.\",\n",
    "        },\n",
    "        \"Sialkot\":{\n",
    "            \"country\":\"Pakistan\",\n",
    "            \"population\":\"1.266 Million\",\n",
    "            \"about\":\"The Birth Place Of Allama Muhammad Iqbal.\"\n",
    "        },\n",
    "        \"islamabad\":{\n",
    "            \"country\":\"Pakistan\",\n",
    "            \"population\":\"1 million\",\n",
    "            \"about\":\"Islamabad is a capital of Pakistan.\"\n",
    "        }\n",
    "}\n",
    "print(cities[\"karachi\"])\n",
    "print(cities[\"Sialkot\"])\n",
    "print(cities[\"islamabad\"])"
   ]
  },
  {
   "cell_type": "code",
   "execution_count": 13,
   "metadata": {},
   "outputs": [
    {
     "name": "stdout",
     "output_type": "stream",
     "text": [
      "What's your Age:19\n",
      "your ticket price is $60.\n"
     ]
    }
   ],
   "source": [
    "#Qno:3\n",
    "age = int(input(\"What's your Age:\"))\n",
    "\n",
    "if age < 3:\n",
    "    print(\"Your Entry Is Free\")\n",
    "elif age >= 3 and age <= 12:\n",
    "    print(\"your ticket price is $45.\")\n",
    "elif age > 12:\n",
    "    print(\"your ticket price is $60.\")"
   ]
  },
  {
   "cell_type": "code",
   "execution_count": 6,
   "metadata": {},
   "outputs": [
    {
     "name": "stdout",
     "output_type": "stream",
     "text": [
      "A smarter way to learn python is best book for beginners.\n"
     ]
    }
   ],
   "source": [
    "#Qno:4\n",
    "def favorite_book(title):\n",
    "    print(title + \"is best book for beginners.\")\n",
    "favorite_book(\"A smarter way to learn python \")"
   ]
  },
  {
   "cell_type": "code",
   "execution_count": 15,
   "metadata": {},
   "outputs": [
    {
     "name": "stdout",
     "output_type": "stream",
     "text": [
      "Guess the correct number:  2\n",
      "your guessing number is low.\n",
      "Guess the correct number:  53\n",
      "your guessing number is high.\n",
      "Guess the correct number:  5\n",
      "your guessing number is low.\n",
      "Guess the correct number:  1\n",
      "your guessing number is low.\n",
      "Guess the correct number:  2\n",
      "your guessing number is low.\n",
      "Guess the correct number:  6\n",
      "your guessing number is low.\n",
      "Guess the correct number:  8\n",
      "your guessing number is low.\n",
      "Guess the correct number:  20\n",
      "your guessing number is high.\n",
      "Guess the correct number:  18\n",
      "your guessing number is correct.\n"
     ]
    }
   ],
   "source": [
    "#Qno:5\n",
    "import random\n",
    "random_num = random.randint(1,30)\n",
    "while True:\n",
    "    num = int(input(\"Guess the correct number:  \"))\n",
    "    if num < random_num:\n",
    "        print(\"your guessing number is low.\")\n",
    "    elif num > random_num:\n",
    "        print(\"your guessing number is high.\")\n",
    "    else:\n",
    "        print(\"your guessing number is correct.\")\n",
    "        break"
   ]
  },
  {
   "cell_type": "code",
   "execution_count": null,
   "metadata": {},
   "outputs": [],
   "source": []
  }
 ],
 "metadata": {
  "kernelspec": {
   "display_name": "Python 3",
   "language": "python",
   "name": "python3"
  },
  "language_info": {
   "codemirror_mode": {
    "name": "ipython",
    "version": 3
   },
   "file_extension": ".py",
   "mimetype": "text/x-python",
   "name": "python",
   "nbconvert_exporter": "python",
   "pygments_lexer": "ipython3",
   "version": "3.7.4"
  },
  "widgets": {
   "application/vnd.jupyter.widget-state+json": {
    "state": {},
    "version_major": 2,
    "version_minor": 0
   }
  }
 },
 "nbformat": 4,
 "nbformat_minor": 2
}
